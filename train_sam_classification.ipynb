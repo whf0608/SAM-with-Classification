{
 "cells": [
  {
   "cell_type": "code",
   "execution_count": 1,
   "id": "4ee01e0b-888d-41d4-88f1-2cd1a47cc0f4",
   "metadata": {},
   "outputs": [],
   "source": [
    "class Sam_Classification:\n",
    "    def __init__(self,class_name=['buildings']):\n",
    "        self.sam = sam_model_registry[model_type](checkpoint=sam_checkpoint).to(device=device)\n",
    "        self.predictor = SamPredictor(sam)\n",
    "        self.class_name = class_name\n",
    "        self.decode_classifiction = None\n",
    "        \n",
    "\n",
    "    def forward(self,img,input_point,input_label):\n",
    "        predictor.set_image(image)\n",
    "        # input_point = np.array([[1300, 200]])\n",
    "        # input_label = np.array([1])\n",
    "        masks, scores, logits = predictor.predict(\n",
    "            point_coords=input_point,\n",
    "            point_labels=input_label,\n",
    "            multimask_output=True,\n",
    "        )\n",
    "        class_pre = self.decode_classifiction(predictor.features)\n",
    "\n",
    "        return masks, scores, logits, class_pre \n"
   ]
  },
  {
   "cell_type": "code",
   "execution_count": null,
   "id": "9a9cfdef-988f-4563-b68c-7fa1448e47a2",
   "metadata": {},
   "outputs": [],
   "source": []
  }
 ],
 "metadata": {
  "kernelspec": {
   "display_name": "Python 3",
   "language": "python",
   "name": "python3"
  },
  "language_info": {
   "codemirror_mode": {
    "name": "ipython",
    "version": 3
   },
   "file_extension": ".py",
   "mimetype": "text/x-python",
   "name": "python",
   "nbconvert_exporter": "python",
   "pygments_lexer": "ipython3",
   "version": "3.9.16"
  }
 },
 "nbformat": 4,
 "nbformat_minor": 5
}
